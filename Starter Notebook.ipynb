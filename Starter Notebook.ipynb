{
 "cells": [
  {
   "cell_type": "markdown",
   "metadata": {},
   "source": [
    "# GU4260 Problem Set 7\n",
    "This notebook contains some useful starting code for Problem Set 7"
   ]
  },
  {
   "cell_type": "markdown",
   "metadata": {},
   "source": [
    "First, we'll define the limb-darkening function and the two functions (numerator and denominator) that we need to integrate, as in the previous problem set."
   ]
  },
  {
   "cell_type": "code",
   "execution_count": 1,
   "metadata": {},
   "outputs": [],
   "source": [
    "import math\n",
    "import numpy as np\n",
    "import my_transit\n",
    "\n",
    "def I(r):\n",
    "    '''A Limb-darkening function'''\n",
    "    mu = (1 - (r**2))**(0.5)\n",
    "    return 1 - (1 - (mu)**0.5)\n",
    "\n",
    "def func1(r, p, z):\n",
    "    '''Numerator for the transit integral'''\n",
    "    return I(r) * (1 - my_transit.delta(p,r,abs(z))) * 2 * r\n",
    "\n",
    "def func2(r, p, z):\n",
    "    '''Denominator for the transit integral'''\n",
    "    return I(r) * 2 * r"
   ]
  },
  {
   "cell_type": "markdown",
   "metadata": {},
   "source": [
    "Next, define the function to do the integration necessary to compute the predicted transit light curve given the three parameters (p, t0, tau). We'll use scipy's Gaussian quadrature to the integration as this very efficient."
   ]
  },
  {
   "cell_type": "code",
   "execution_count": 2,
   "metadata": {},
   "outputs": [],
   "source": [
    "from scipy.integrate import quad\n",
    "def ComputeLightCurve(time, p, t0, tau):\n",
    "    \"\"\" Convert from Time to z and compute predicted transit curve. Given the three\n",
    "        parameters p, t0, and tau as well as an array containing the time values,\n",
    "        returns the predicted (normalized) transit flux values as an array\"\"\"\n",
    "    zs = (time-t0)/tau\n",
    "    FluxRatio = []\n",
    "    for zval in zs:\n",
    "        FluxObscured, FO_error = quad(func1, 0.0, 1.0, epsrel=1e-06, args=(p,zval))\n",
    "        FluxUnobscured, FU_error = quad(func2, 0.0, 1.0, epsrel=1e-06, args=(p,zval))\n",
    "        FluxRatio.append(FluxObscured/FluxUnobscured)\n",
    "    return np.array(FluxRatio)"
   ]
  },
  {
   "cell_type": "markdown",
   "metadata": {},
   "source": [
    "Read in the Kepler observed transit curve (or replace with your own code using kplr)"
   ]
  },
  {
   "cell_type": "code",
   "execution_count": 3,
   "metadata": {},
   "outputs": [],
   "source": [
    "time, flux, flux_err = np.loadtxt(\"KOI97.01_1.out\", unpack=True)"
   ]
  },
  {
   "cell_type": "markdown",
   "metadata": {},
   "source": [
    "Compute the predicted transit curve given some parameters and the whole time curve.  Note that his section definitely needs to be replaced by code which extracts the required section and normalizes the observed flux values (as described in the problem set) -- I include this just to show an example of how to call ComputeLightCurve."
   ]
  },
  {
   "cell_type": "code",
   "execution_count": 4,
   "metadata": {},
   "outputs": [],
   "source": [
    "p = 0.0775\n",
    "tau = 0.1\n",
    "t0 = 124.51\n",
    "\n",
    "FluxRatioTheory = ComputeLightCurve(time, p, t0, tau)"
   ]
  }
 ],
 "metadata": {
  "kernelspec": {
   "display_name": "Python 3",
   "language": "python",
   "name": "python3"
  },
  "language_info": {
   "codemirror_mode": {
    "name": "ipython",
    "version": 3
   },
   "file_extension": ".py",
   "mimetype": "text/x-python",
   "name": "python",
   "nbconvert_exporter": "python",
   "pygments_lexer": "ipython3",
   "version": "3.5.4"
  }
 },
 "nbformat": 4,
 "nbformat_minor": 2
}
